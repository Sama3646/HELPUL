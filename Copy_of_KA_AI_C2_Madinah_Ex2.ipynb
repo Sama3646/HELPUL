{
  "cells": [
    {
      "cell_type": "code",
      "execution_count": null,
      "metadata": {
        "id": "zcWdmzFF6Wy3"
      },
      "outputs": [],
      "source": [
        "import matplotlib.pyplot as plt\n",
        "import numpy as np\n",
        "\n",
        "\n",
        "#not in scope of this course\n",
        "import torch\n",
        "from torchvision.datasets import MNIST\n",
        "import torchvision.transforms as T\n",
        "from torch.utils.data import DataLoader"
      ]
    },
    {
      "cell_type": "code",
      "execution_count": null,
      "metadata": {
        "id": "g9ypghZR7E1p"
      },
      "outputs": [],
      "source": [
        "train_dataset = MNIST(\"/\", download = True, train = True, transform = T.ToTensor())\n",
        "test_dataset = MNIST(\"/\", download = True, train = False, transform = T.ToTensor())"
      ]
    },
    {
      "cell_type": "code",
      "execution_count": null,
      "metadata": {
        "id": "vPZq_vzw7RNz"
      },
      "outputs": [],
      "source": [
        "bs = 32\n",
        "\n",
        "train_loader = DataLoader(train_dataset, batch_size = bs)\n",
        "test_loader = DataLoader(test_dataset, batch_size = bs)"
      ]
    },
    {
      "cell_type": "markdown",
      "source": [
        "#Tasks\n",
        "#1) Train a logistic regression model using numpy (PyTorch or any other framework is not allowed)\n",
        "#2) Implement the softmax layer\n",
        "#3) Implement the cross entropy loss\n",
        "#4) plot the training loss\n",
        "#5) Show the test Accuracy\n",
        "#6) Show a few incorrectly labelled samples"
      ],
      "metadata": {
        "id": "GDH_sHZo9Xpe"
      }
    },
    {
      "cell_type": "code",
      "source": [
        "batch = next(iter(train_loader))"
      ],
      "metadata": {
        "id": "BmkDqzunhvwe"
      },
      "execution_count": null,
      "outputs": []
    },
    {
      "cell_type": "code",
      "source": [
        "print(batch[0].shape)"
      ],
      "metadata": {
        "colab": {
          "base_uri": "https://localhost:8080/"
        },
        "id": "xkLxnilNihlX",
        "outputId": "91d31560-e520-4418-eee2-e854c4548eaa"
      },
      "execution_count": null,
      "outputs": [
        {
          "output_type": "stream",
          "name": "stdout",
          "text": [
            "torch.Size([32, 1, 28, 28])\n"
          ]
        }
      ]
    },
    {
      "cell_type": "code",
      "source": [
        "print(batch[1].shape)"
      ],
      "metadata": {
        "colab": {
          "base_uri": "https://localhost:8080/"
        },
        "id": "uXcc7OJajddK",
        "outputId": "c5738262-eabf-4ce4-ff86-bd17a7d8ca80"
      },
      "execution_count": null,
      "outputs": [
        {
          "output_type": "stream",
          "name": "stdout",
          "text": [
            "torch.Size([32])\n"
          ]
        }
      ]
    },
    {
      "cell_type": "code",
      "source": [
        "def CE(yhat, y):\n",
        "  return -np.sum(y * np.log(yhat + 1e-8))"
      ],
      "metadata": {
        "id": "C2oaTcZsiTgq"
      },
      "execution_count": null,
      "outputs": []
    },
    {
      "cell_type": "code",
      "source": [
        "def softmax(z):\n",
        "  max_z = np.max(z)\n",
        "  exp_z = np.exp(z - max_z)  # Subtract max_z to prevent overflow\n",
        "  return exp_z / np.sum(exp_z)"
      ],
      "metadata": {
        "id": "Qf4CJbUDiUws"
      },
      "execution_count": null,
      "outputs": []
    },
    {
      "cell_type": "code",
      "source": [
        "ni = batch[0].shape[1] * batch[0].shape[2] * batch[0].shape[3] # input channels * rows * columns\n",
        "no = 10 # number of classes, which we know\n",
        "\n",
        "w = np.random.randn(ni, no)\n",
        "b = np.ones(no)\n",
        "\n",
        "lr = 5e-5\n",
        "epochs = 10"
      ],
      "metadata": {
        "id": "OiRtlvosjT0n"
      },
      "execution_count": null,
      "outputs": []
    },
    {
      "cell_type": "code",
      "source": [
        "print(w.shape, b.shape)"
      ],
      "metadata": {
        "colab": {
          "base_uri": "https://localhost:8080/"
        },
        "id": "kNl1vGq0j0bM",
        "outputId": "18af6ff1-2384-4415-a682-85a05e045774"
      },
      "execution_count": null,
      "outputs": [
        {
          "output_type": "stream",
          "name": "stdout",
          "text": [
            "(784, 10) (10,)\n"
          ]
        }
      ]
    },
    {
      "cell_type": "code",
      "source": [
        "ls = []\n",
        "for i in range(epochs):\n",
        "  correct = 0\n",
        "  loss_batches = 0\n",
        "  for batch in train_loader:\n",
        "    X = batch[0].reshape(-1, ni)\n",
        "    X = np.array(X)\n",
        "    y = batch[1]\n",
        "    y = np.eye(no)[y]\n",
        "\n",
        "    # forward pass\n",
        "    z = X @ w + b\n",
        "    yhat = softmax(z)\n",
        "    loss = CE(yhat, y)\n",
        "    loss_batches += loss\n",
        "    # backward pass\n",
        "    dz = yhat - y\n",
        "    dw = X.T @ dz\n",
        "    db = np.sum(dz, axis=0)\n",
        "\n",
        "    w -= lr * dw\n",
        "    b -= lr * db\n",
        "\n",
        "    pred = np.argmax(yhat, axis=1)\n",
        "    correct += np.sum(pred == np.argmax(y, axis=1))\n",
        "\n",
        "  ls.append(loss_batches/len(train_loader))\n",
        "  print(f'Epoch: {i+1}, loss: {ls[-1]} No. correctly labelled images: {correct}/60000, Acc: {correct/60000}')\n",
        "plt.plot(ls)"
      ],
      "metadata": {
        "colab": {
          "base_uri": "https://localhost:8080/",
          "height": 613
        },
        "id": "nz6tNXvrj8d5",
        "outputId": "743f4b14-4c9a-4ccf-9740-72af5cebace2"
      },
      "execution_count": null,
      "outputs": [
        {
          "output_type": "stream",
          "name": "stdout",
          "text": [
            "Epoch: 1, loss: 565.0277962776854 No. correctly labelled images: 7856/60000, Acc: 0.13093333333333335\n",
            "Epoch: 2, loss: 544.0383659501546 No. correctly labelled images: 13952/60000, Acc: 0.23253333333333334\n",
            "Epoch: 3, loss: 543.7550210773402 No. correctly labelled images: 19968/60000, Acc: 0.3328\n",
            "Epoch: 4, loss: 547.7302051353013 No. correctly labelled images: 25161/60000, Acc: 0.41935\n",
            "Epoch: 5, loss: 551.2017404304476 No. correctly labelled images: 29672/60000, Acc: 0.4945333333333333\n",
            "Epoch: 6, loss: 554.1423292057843 No. correctly labelled images: 33220/60000, Acc: 0.5536666666666666\n",
            "Epoch: 7, loss: 556.546243712356 No. correctly labelled images: 35867/60000, Acc: 0.5977833333333333\n",
            "Epoch: 8, loss: 558.5023105939807 No. correctly labelled images: 37799/60000, Acc: 0.6299833333333333\n",
            "Epoch: 9, loss: 560.0940853692169 No. correctly labelled images: 39356/60000, Acc: 0.6559333333333334\n",
            "Epoch: 10, loss: 561.4351835843111 No. correctly labelled images: 40415/60000, Acc: 0.6735833333333333\n"
          ]
        },
        {
          "output_type": "execute_result",
          "data": {
            "text/plain": [
              "[<matplotlib.lines.Line2D at 0x791c8a4d94b0>]"
            ]
          },
          "metadata": {},
          "execution_count": 97
        },
        {
          "output_type": "display_data",
          "data": {
            "text/plain": [
              "<Figure size 640x480 with 1 Axes>"
            ],
            "image/png": "[encoded data removed]"
          },
          "metadata": {}
        }
      ]
    },
    {
      "cell_type": "code",
      "source": [
        "loss_batches = 0\n",
        "for batch in test_loader:\n",
        "  X = batch[0].reshape(-1, ni)\n",
        "  X = np.array(X)\n",
        "  y = batch[1]\n",
        "  y = np.eye(no)[y]\n",
        "\n",
        "  # forward pass\n",
        "  z = X @ w + b\n",
        "  yhat = softmax(z)\n",
        "\n",
        "  loss = CE(yhat, y)\n",
        "  loss_batches += loss\n",
        "  pred = np.argmax(yhat, axis=1)\n",
        "  correct += np.sum(pred == np.argmax(y, axis=1))\n",
        "\n",
        "\n",
        "print(f'No. correctly labelled test images: {correct}/60000, test Acc: {correct/60000}')"
      ],
      "metadata": {
        "colab": {
          "base_uri": "https://localhost:8080/"
        },
        "id": "vOlhMt1BluF9",
        "outputId": "75ba44ec-e971-438b-a58c-97451c2cbacd"
      },
      "execution_count": null,
      "outputs": [
        {
          "output_type": "stream",
          "name": "stdout",
          "text": [
            "No. correctly labelled test images: 47292/60000, test Acc: 0.7882\n"
          ]
        }
      ]
    }
  ],
  "metadata": {
    "accelerator": "GPU",
    "colab": {
      "provenance": []
    },
    "kernelspec": {
      "display_name": "Python 3",
      "name": "python3"
    },
    "language_info": {
      "name": "python"
    }
  },
  "nbformat": 4,
  "nbformat_minor": 0
}